{
 "cells": [
  {
   "cell_type": "code",
   "execution_count": null,
   "metadata": {},
   "outputs": [],
   "source": [
    "DIRECTORY = r\"C:\\Users\\Θοδωρής\\Code\\Python\\Main-Scripts\\Enorkes\\Helper Funcs\"\n",
    "import os\n",
    "import pandas as pd\n",
    "from mappings import (day_dict, month_dict, date_katathesi_options, hours)\n",
    "os.chdir(DIRECTORY)\n",
    "from anathesi_helper_funcs import (load_filtered_df,create_lawyer_dicts,assign_hours_to_lawyers,fill_lawyer_full_names,write_hyperlink)\n",
    "from search_folders_helper_funcs import (bundle_funcs)\n",
    "from extract_text_helper_funcs import extract_text\n",
    "# from create_dfs import (create_all_dataframes,convert_df_to_sheets,format_df) ❌\n",
    "#import config  # Ensure that 'config' is necessary for the code\n",
    "from tstamp import generate_timestamp_filename\n",
    "LAWYER_LIST_FILE = \"ΛΙΣΤΑ ΔΙΚΗΓΟΡΩΝ ΕΝΟΡΚΩΝ.xlsx\"\n",
    "from drop_down_gui import *\n",
    "dikigoroi_df = pd.read_excel(LAWYER_LIST_FILE)\n"
   ]
  },
  {
   "cell_type": "code",
   "execution_count": null,
   "metadata": {},
   "outputs": [],
   "source": [
    "# Load arxeio anathesis df\n",
    "\n",
    "# Get the correct date column,clean it and filter by the input date\n",
    "anathesi_df = load_filtered_df('unfiltered')\n",
    "\n",
    "anathesi_df\n",
    "# Create lawyer dicts\n",
    "create_lawyer_dicts(dikigoroi_df)\n",
    "fill_lawyer_full_names(anathesi_df) \n",
    "# Fill hours\n",
    "anathesi_df = assign_hours_to_lawyers(anathesi_df, hours)\n"
   ]
  },
  {
   "cell_type": "code",
   "execution_count": null,
   "metadata": {},
   "outputs": [],
   "source": []
  },
  {
   "cell_type": "code",
   "execution_count": null,
   "metadata": {},
   "outputs": [],
   "source": [
    "# File Searching\n",
    "# Get all files and paths\n",
    "bundle_funcs() #❌\n",
    "# Extact text from word files \n",
    "extract_text() ❌"
   ]
  },
  {
   "cell_type": "code",
   "execution_count": null,
   "metadata": {},
   "outputs": [],
   "source": [
    "# # Create all dfs \n",
    "# create_all_dataframes()\n",
    "# df3.replace(regex=True,inplace=True,to_replace=\"Ι.']\",value=\"\")\n",
    "# df1['Φάκελος'] = df1['Φάκελος'].apply(write_hyperlink)\n",
    "\n",
    "# # Convert to excel\n",
    "# convert_df_to_sheets()\n",
    "# format_df(filename)\n",
    "# os.startfile(filename)\n"
   ]
  },
  {
   "cell_type": "code",
   "execution_count": null,
   "metadata": {},
   "outputs": [],
   "source": []
  },
  {
   "cell_type": "code",
   "execution_count": null,
   "metadata": {},
   "outputs": [],
   "source": []
  },
  {
   "cell_type": "code",
   "execution_count": null,
   "metadata": {},
   "outputs": [],
   "source": [
    "    "
   ]
  },
  {
   "cell_type": "code",
   "execution_count": null,
   "metadata": {},
   "outputs": [],
   "source": []
  },
  {
   "cell_type": "code",
   "execution_count": null,
   "metadata": {},
   "outputs": [],
   "source": []
  },
  {
   "cell_type": "code",
   "execution_count": null,
   "metadata": {},
   "outputs": [],
   "source": []
  },
  {
   "cell_type": "code",
   "execution_count": null,
   "metadata": {},
   "outputs": [],
   "source": []
  },
  {
   "cell_type": "code",
   "execution_count": null,
   "metadata": {},
   "outputs": [],
   "source": []
  },
  {
   "cell_type": "code",
   "execution_count": null,
   "metadata": {},
   "outputs": [],
   "source": []
  }
 ],
 "metadata": {
  "kernelspec": {
   "display_name": "base",
   "language": "python",
   "name": "python3"
  },
  "language_info": {
   "codemirror_mode": {
    "name": "ipython",
    "version": 3
   },
   "file_extension": ".py",
   "mimetype": "text/x-python",
   "name": "python",
   "nbconvert_exporter": "python",
   "pygments_lexer": "ipython3",
   "version": "3.9.12"
  }
 },
 "nbformat": 4,
 "nbformat_minor": 2
}
