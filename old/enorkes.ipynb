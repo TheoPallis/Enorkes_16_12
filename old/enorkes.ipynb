{
 "cells": [
  {
   "cell_type": "code",
   "execution_count": null,
   "metadata": {},
   "outputs": [],
   "source": [
    "# Importing additional imports\n",
    "import pandas as pd\n",
    "# Importing data definitions\n",
    "from mappings import day_dict, month_dict, hours_list,date_katathesi_options\n",
    "dikigoroi_df = pd.read_excel(\"ΛΙΣΤΑ ΔΙΚΗΓΟΡΩΝ ΕΝΟΡΚΩΝ .xlsx\")  \n",
    "from anathesi_helper_funcs import (\n",
    "     load_filtered_df,create_lawyer_mappings, assign_hours_to_lawyers\n",
    ")\n",
    "from create_dfs import (create_all_dataframes)\n",
    "\n",
    "import config  # Ensure that 'config' is necessary for the code"
   ]
  },
  {
   "cell_type": "code",
   "execution_count": null,
   "metadata": {},
   "outputs": [],
   "source": [
    "# Load excel file, get the correct date column,clean it and filter by the input date\n",
    "anathesi_df = load_filtered_df()\n",
    "# Fill lawyer info \n",
    "anathesi_df = create_lawyer_mappings()\n",
    "# Fill hours\n",
    "anathesi_df = assign_hours_to_lawyers(anathesi_df, hours_list)\n",
    "# Create all dfs \n",
    "create_all_dataframes()\n",
    "df3.replace(regex=True,inplace=True,to_replace=\"Ι.']\",value=\"\")\n",
    "df1['Φάκελος'] = df1['Φάκελος'].apply(write_hyperlink)\n"
   ]
  },
  {
   "cell_type": "code",
   "execution_count": null,
   "metadata": {},
   "outputs": [],
   "source": []
  },
  {
   "cell_type": "code",
   "execution_count": null,
   "metadata": {},
   "outputs": [],
   "source": [
    "    "
   ]
  },
  {
   "cell_type": "code",
   "execution_count": null,
   "metadata": {},
   "outputs": [],
   "source": []
  },
  {
   "cell_type": "code",
   "execution_count": null,
   "metadata": {},
   "outputs": [],
   "source": []
  },
  {
   "cell_type": "code",
   "execution_count": null,
   "metadata": {},
   "outputs": [],
   "source": []
  },
  {
   "cell_type": "code",
   "execution_count": null,
   "metadata": {},
   "outputs": [],
   "source": []
  },
  {
   "cell_type": "code",
   "execution_count": null,
   "metadata": {},
   "outputs": [],
   "source": []
  },
  {
   "cell_type": "code",
   "execution_count": null,
   "metadata": {},
   "outputs": [],
   "source": []
  }
 ],
 "metadata": {
  "language_info": {
   "name": "python"
  }
 },
 "nbformat": 4,
 "nbformat_minor": 2
}
